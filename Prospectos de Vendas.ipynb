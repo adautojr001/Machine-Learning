{
 "cells": [
  {
   "cell_type": "code",
   "execution_count": null,
   "id": "1aa613b7-d714-41ca-b0a8-d073b18fdc7e",
   "metadata": {},
   "outputs": [],
   "source": [
    "import numpy as np\n",
    "import pandas as pd\n",
    "import matplotlib.pyplot as plt\n",
    "from sklearn.model_selection import train_test_split\n",
    "from sklearn.preprocessing import StandardScaler\n",
    "from sklearn.linear_model import LogisticRegression\n",
    "from sklearn.metrics import classification_report, confusion_matrix\n",
    "\n",
    "# Geração de dados sintéticos\n",
    "np.random.seed(42)\n",
    "n = 1000\n",
    "\n",
    "# Features\n",
    "idade = np.random.randint(18, 70, size=n)\n",
    "renda_mensal = np.random.randint(1500, 20000, size=n)\n",
    "tem_cartao_credito = np.random.randint(0, 2, size=n)\n",
    "usa_app = np.random.randint(0, 2, size=n)\n",
    "saldo_medio = np.random.normal(loc=5000, scale=2000, size=n).astype(int)\n",
    "\n",
    "# Alvo (comprou título: 1 ou 0)\n",
    "# Exemplo simples: alta renda + usa app + saldo alto => maior chance de compra\n",
    "comprou_titulo = (\n",
    "    (renda_mensal > 7000).astype(int) +\n",
    "    (usa_app == 1).astype(int) +\n",
    "    (saldo_medio > 6000).astype(int)\n",
    ")\n",
    "comprou_titulo = (comprou_titulo >= 2).astype(int)\n",
    "\n",
    "# Criar DataFrame\n",
    "df = pd.DataFrame({\n",
    "    'idade': idade,\n",
    "    'renda_mensal': renda_mensal,\n",
    "    'tem_cartao_credito': tem_cartao_credito,\n",
    "    'usa_app': usa_app,\n",
    "    'saldo_medio': saldo_medio,\n",
    "    'comprou_titulo': comprou_titulo\n",
    "})\n",
    "\n",
    "df.head()\n",
    "\n",
    "# Separar features e alvo\n",
    "X = df.drop('comprou_titulo', axis=1)\n",
    "y = df['comprou_titulo']\n",
    "\n",
    "# Normalização\n",
    "scaler = StandardScaler()\n",
    "X_scaled = scaler.fit_transform(X)\n",
    "\n",
    "# Separar treino e teste\n",
    "X_train, X_test, y_train, y_test = train_test_split(X_scaled, y, test_size=0.3, random_state=42)\n",
    "\n",
    "# Treinar modelo\n",
    "modelo = LogisticRegression()\n",
    "modelo.fit(X_train, y_train)\n",
    "\n",
    "# Avaliar\n",
    "y_pred = modelo.predict(X_test)\n",
    "\n",
    "print(\"Relatório de Classificação:\\n\")\n",
    "print(classification_report(y_test, y_pred))\n",
    "\n",
    "print(\"Matriz de Confusão:\\n\")\n",
    "print(confusion_matrix(y_test, y_pred))\n",
    "\n",
    "# Coeficientes das features\n",
    "pesos = pd.Series(modelo.coef_[0], index=X.columns)\n",
    "pesos.sort_values(ascending=False).plot(kind='barh')\n",
    "plt.title(\"Importância das Features\")\n",
    "plt.show()\n",
    "\n",
    "import joblib\n",
    "\n",
    "# Salvar o modelo e o scaler\n",
    "joblib.dump(modelo, 'modelo_titulo_capitalizacao.pkl')\n",
    "joblib.dump(scaler, 'scaler_titulo_capitalizacao.pkl')\n",
    "\n",
    "# Para carregar depois\n",
    "modelo_carregado = joblib.load('modelo_titulo_capitalizacao.pkl')\n",
    "scaler_carregado = joblib.load('scaler_titulo_capitalizacao.pkl')"
   ]
  },
  {
   "cell_type": "code",
   "execution_count": null,
   "id": "f702a95d-0257-434d-aed1-7aee8be0681a",
   "metadata": {},
   "outputs": [],
   "source": []
  },
  {
   "cell_type": "code",
   "execution_count": null,
   "id": "607467c8-a599-412f-8a14-302454cf6d26",
   "metadata": {},
   "outputs": [],
   "source": []
  }
 ],
 "metadata": {
  "kernelspec": {
   "display_name": "Python 3 (ipykernel)",
   "language": "python",
   "name": "python3"
  },
  "language_info": {
   "codemirror_mode": {
    "name": "ipython",
    "version": 3
   },
   "file_extension": ".py",
   "mimetype": "text/x-python",
   "name": "python",
   "nbconvert_exporter": "python",
   "pygments_lexer": "ipython3",
   "version": "3.12.6"
  }
 },
 "nbformat": 4,
 "nbformat_minor": 5
}
",
    "    # Escalar e prever\n",
    "    valores_escalados = scaler.transform(valores)\n",
    "    predicao = modelo.predict(valores_escalados)\n",
    "    probabilidade = modelo.predict_proba(valores_escalados)[0][1]\n",
    "\n",
    "    return jsonify({\n",
    "        'comprou_titulo': int(predicao[0]),\n",
    "        'probabilidade': round(probabilidade, 2)\n",
    "    })\n",
    "\n",
    "if __name__ == '__main__':\n",
    "    app.run(debug=True)\n"
   ]
  },
  {
   "cell_type": "code",
   "execution_count": null,
   "id": "f702a95d-0257-434d-aed1-7aee8be0681a",
   "metadata": {},
   "outputs": [],
   "source": [
    "python app.py"
   ]
  },
  {
   "cell_type": "code",
   "execution_count": null,
   "id": "607467c8-a599-412f-8a14-302454cf6d26",
   "metadata": {},
   "outputs": [],
   "source": []
  }
 ],
 "metadata": {
  "kernelspec": {
   "display_name": "Python 3 (ipykernel)",
   "language": "python",
   "name": "python3"
  },
  "language_info": {
   "codemirror_mode": {
    "name": "ipython",
    "version": 3
   },
   "file_extension": ".py",
   "mimetype": "text/x-python",
   "name": "python",
   "nbconvert_exporter": "python",
   "pygments_lexer": "ipython3",
   "version": "3.12.6"
  }
 },
 "nbformat": 4,
 "nbformat_minor": 5
}
